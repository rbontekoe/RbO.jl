{
 "cells": [
  {
   "cell_type": "code",
   "execution_count": null,
   "metadata": {},
   "outputs": [],
   "source": [
    "# push!(LOAD_PATH, \"/home/rob/julia_projects/RbO.jl/src/\")\n",
    "using RbO, Plots, Statistics\n",
    "pyplot()"
   ]
  },
  {
   "cell_type": "markdown",
   "metadata": {},
   "source": [
    "### Create subscribers"
   ]
  },
  {
   "cell_type": "code",
   "execution_count": null,
   "metadata": {},
   "outputs": [],
   "source": [
    "daisy = createSubscriber( \"Daisy Duck\", \"daisy@duckcity.com\" )\n",
    "donald = createSubscriber( \"Donald Duck\", \"donald@duckcity.com\", STD_CALCULATOR )\n",
    "scrooge = createSubscriber( \"Scrooge McDuck\", \"scrooge@duckcity.com\", PLOTTER )\n",
    "mickey = createSubscriber( \"Micky Mouse\" )"
   ]
  },
  {
   "cell_type": "markdown",
   "metadata": {},
   "source": [
    "### Create newspapers and magazines"
   ]
  },
  {
   "cell_type": "code",
   "execution_count": null,
   "metadata": {},
   "outputs": [],
   "source": [
    "chronicals = createPublisher( \"the Duck Chronicals\" )"
   ]
  },
  {
   "cell_type": "markdown",
   "metadata": {},
   "source": [
    "Add subscribers to the Duck Chronicals"
   ]
  },
  {
   "cell_type": "code",
   "execution_count": null,
   "metadata": {},
   "outputs": [],
   "source": [
    "subscribe( chronicals, daisy )\n",
    "subscribe( chronicals, donald )\n",
    "subscribe( chronicals, scrooge )\n",
    "subscribe( chronicals, mickey )"
   ]
  },
  {
   "cell_type": "markdown",
   "metadata": {},
   "source": [
    "Unsubscribe Mickey Mouse"
   ]
  },
  {
   "cell_type": "code",
   "execution_count": null,
   "metadata": {},
   "outputs": [],
   "source": [
    "chronicals = unsubscribe(chronicals, mickey)"
   ]
  },
  {
   "cell_type": "markdown",
   "metadata": {},
   "source": [
    "### Define message for the Duck Chronical subscribers"
   ]
  },
  {
   "cell_type": "code",
   "execution_count": null,
   "metadata": {},
   "outputs": [],
   "source": [
    "message = createMessage( \"Weather station\", \"Temperatures\", [10.9, 12, 10.5, 12.7, 10.2] )"
   ]
  },
  {
   "cell_type": "markdown",
   "metadata": {},
   "source": [
    "### Print the messages"
   ]
  },
  {
   "cell_type": "code",
   "execution_count": null,
   "metadata": {},
   "outputs": [],
   "source": [
    "paper = chronicals"
   ]
  },
  {
   "cell_type": "markdown",
   "metadata": {},
   "source": [
    "List with the subscribers of a newspaper or magazine"
   ]
  },
  {
   "cell_type": "code",
   "execution_count": null,
   "metadata": {},
   "outputs": [],
   "source": [
    "sm = map( x -> x.email == \"\" ? x.name : x.name * \" - \" * x.email, paper.list )"
   ]
  },
  {
   "cell_type": "markdown",
   "metadata": {},
   "source": [
    "Print the subscribers"
   ]
  },
  {
   "cell_type": "code",
   "execution_count": null,
   "metadata": {},
   "outputs": [],
   "source": [
    "len =  length( \"Subscribers of \" * paper.name * string(paper.publishertype )) + 5\n",
    "println( \"\\n\" * \"=\"^len )\n",
    "title = titlecase( string( paper.publishertype ) )\n",
    "println( \" Subscribers of \" * paper.name * \" - \" * map(x -> x == '_' ? ' ' : x , title ) )\n",
    "println( \"=\"^len )\n",
    "\n",
    "for subscriber in sm\n",
    "    println( \" \" * subscriber )\n",
    "end\n",
    "println( '='^len )"
   ]
  },
  {
   "cell_type": "markdown",
   "metadata": {},
   "source": [
    "### Define the function 'processMessage' to process data depending on SubsriberType"
   ]
  },
  {
   "cell_type": "code",
   "execution_count": null,
   "metadata": {},
   "outputs": [],
   "source": [
    "result = []\n",
    "processMessage( s::Subscriber, n::Publisher, m::Message ) = begin\n",
    "    if s.subscribertype == STD_CALCULATOR\n",
    "        println( s.name * \":\\t the standard deviation of the last five temperatures is: \" * string( round( std(m.body); digits=2) ) * \" °C\" )\n",
    "    elseif s.subscribertype == MEAN_CALCULATOR\n",
    "        #println( s.name * \":\\t the average of the last five temperatures is: \" * string(sum(m.body) / length(m.body)) * \" °C\" )\n",
    "        println( s.name * \":\\t the average of the last five temperatures is: \" * string( mean( m.body ) ) * \" °C\" )\n",
    "    elseif s.subscribertype == PLOTTER\n",
    "        println( s.name * \":\\t the dataset with the last five temperatures is: \" * string( m.body ) )\n",
    "        global result = m.body\n",
    "    end\n",
    "end"
   ]
  },
  {
   "cell_type": "markdown",
   "metadata": {},
   "source": [
    "### Notify scubscribers"
   ]
  },
  {
   "cell_type": "code",
   "execution_count": null,
   "metadata": {},
   "outputs": [],
   "source": [
    "sendMessage( chronicals, message, processMessage )"
   ]
  },
  {
   "cell_type": "markdown",
   "metadata": {},
   "source": [
    "### Plot the temperatures"
   ]
  },
  {
   "cell_type": "code",
   "execution_count": null,
   "metadata": {},
   "outputs": [],
   "source": [
    "plot(result)"
   ]
  },
  {
   "cell_type": "markdown",
   "metadata": {},
   "source": [
    "*This notebook was generated using [Literate.jl](https://github.com/fredrikekre/Literate.jl).*"
   ]
  }
 ],
 "metadata": {
  "@webio": {
   "lastCommId": null,
   "lastKernelId": null
  },
  "kernelspec": {
   "display_name": "Julia 1.1.1",
   "language": "julia",
   "name": "julia-1.1"
  },
  "language_info": {
   "file_extension": ".jl",
   "mimetype": "application/julia",
   "name": "julia",
   "version": "1.1.1"
  }
 },
 "nbformat": 4,
 "nbformat_minor": 3
}
