{
 "cells": [
  {
   "outputs": [
    {
     "output_type": "execute_result",
     "data": {
      "text/plain": "Plots.PyPlotBackend()"
     },
     "metadata": {},
     "execution_count": 1
    }
   ],
   "cell_type": "code",
   "source": [
    "using RbO, Plots, Statistics\n",
    "pyplot()"
   ],
   "metadata": {},
   "execution_count": 1
  },
  {
   "outputs": [],
   "cell_type": "markdown",
   "source": [
    "### Create subscribers"
   ],
   "metadata": {}
  },
  {
   "outputs": [
    {
     "output_type": "execute_result",
     "data": {
      "text/plain": "Subscriber(\"Micky Mouse\", \"\", MEAN_CALCULATOR::SubscriberType = 0)"
     },
     "metadata": {},
     "execution_count": 2
    }
   ],
   "cell_type": "code",
   "source": [
    "daisy = createSubscriber( \"Daisy Duck\", \"daisy@duckcity.com\" )\n",
    "donald = createSubscriber( \"Donald Duck\", \"donald@duckcity.com\", STD_CALCULATOR )\n",
    "scrooge = createSubscriber( \"Scrooge McDuck\", \"scrooge@duckcity.com\", PLOTTER )\n",
    "mickey = createSubscriber( \"Micky Mouse\" )"
   ],
   "metadata": {},
   "execution_count": 2
  },
  {
   "outputs": [],
   "cell_type": "markdown",
   "source": [
    "### Create newspapers and magazines"
   ],
   "metadata": {}
  },
  {
   "outputs": [
    {
     "output_type": "execute_result",
     "data": {
      "text/plain": "Publisher(\"the Duck Chronicals\", NEWSPAPER::PublisherType = 0, Subscriber[])"
     },
     "metadata": {},
     "execution_count": 3
    }
   ],
   "cell_type": "code",
   "source": [
    "chronicals = createPublisher( \"the Duck Chronicals\" )"
   ],
   "metadata": {},
   "execution_count": 3
  },
  {
   "outputs": [],
   "cell_type": "markdown",
   "source": [
    "Add subscribers to the Duck Chronicals"
   ],
   "metadata": {}
  },
  {
   "outputs": [
    {
     "output_type": "execute_result",
     "data": {
      "text/plain": "Publisher(\"the Duck Chronicals\", NEWSPAPER::PublisherType = 0, Subscriber[Subscriber(\"Daisy Duck\", \"daisy@duckcity.com\", MEAN_CALCULATOR), Subscriber(\"Donald Duck\", \"donald@duckcity.com\", STD_CALCULATOR), Subscriber(\"Scrooge McDuck\", \"scrooge@duckcity.com\", PLOTTER), Subscriber(\"Micky Mouse\", \"\", MEAN_CALCULATOR)])"
     },
     "metadata": {},
     "execution_count": 4
    }
   ],
   "cell_type": "code",
   "source": [
    "subscribe( chronicals, daisy )\n",
    "subscribe( chronicals, donald )\n",
    "subscribe( chronicals, scrooge )\n",
    "subscribe( chronicals, mickey )"
   ],
   "metadata": {},
   "execution_count": 4
  },
  {
   "outputs": [],
   "cell_type": "markdown",
   "source": [
    "Unsubscribe Mickey Mouse"
   ],
   "metadata": {}
  },
  {
   "outputs": [
    {
     "output_type": "execute_result",
     "data": {
      "text/plain": "Publisher(\"the Duck Chronicals\", NEWSPAPER::PublisherType = 0, Subscriber[Subscriber(\"Daisy Duck\", \"daisy@duckcity.com\", MEAN_CALCULATOR), Subscriber(\"Donald Duck\", \"donald@duckcity.com\", STD_CALCULATOR), Subscriber(\"Scrooge McDuck\", \"scrooge@duckcity.com\", PLOTTER)])"
     },
     "metadata": {},
     "execution_count": 5
    }
   ],
   "cell_type": "code",
   "source": [
    "chronicals = unsubscribe(chronicals, mickey)"
   ],
   "metadata": {},
   "execution_count": 5
  },
  {
   "outputs": [],
   "cell_type": "markdown",
   "source": [
    "### Define message for the Duck Chronical subscribers"
   ],
   "metadata": {}
  },
  {
   "outputs": [
    {
     "output_type": "execute_result",
     "data": {
      "text/plain": "Message(\"Weather station\", \"Temperatures\", [10.9, 12.0, 10.5, 12.7, 10.2])"
     },
     "metadata": {},
     "execution_count": 6
    }
   ],
   "cell_type": "code",
   "source": [
    "message = createMessage( \"Weather station\", \"Temperatures\", [10.9, 12, 10.5, 12.7, 10.2] )"
   ],
   "metadata": {},
   "execution_count": 6
  },
  {
   "outputs": [],
   "cell_type": "markdown",
   "source": [
    "### Print the messages"
   ],
   "metadata": {}
  },
  {
   "outputs": [
    {
     "output_type": "execute_result",
     "data": {
      "text/plain": "Publisher(\"the Duck Chronicals\", NEWSPAPER::PublisherType = 0, Subscriber[Subscriber(\"Daisy Duck\", \"daisy@duckcity.com\", MEAN_CALCULATOR), Subscriber(\"Donald Duck\", \"donald@duckcity.com\", STD_CALCULATOR), Subscriber(\"Scrooge McDuck\", \"scrooge@duckcity.com\", PLOTTER)])"
     },
     "metadata": {},
     "execution_count": 7
    }
   ],
   "cell_type": "code",
   "source": [
    "paper = chronicals"
   ],
   "metadata": {},
   "execution_count": 7
  },
  {
   "outputs": [],
   "cell_type": "markdown",
   "source": [
    "List with the subscribers of a newspaper or magazine"
   ],
   "metadata": {}
  },
  {
   "outputs": [
    {
     "output_type": "execute_result",
     "data": {
      "text/plain": "3-element Array{String,1}:\n \"Daisy Duck - daisy@duckcity.com\"      \n \"Donald Duck - donald@duckcity.com\"    \n \"Scrooge McDuck - scrooge@duckcity.com\""
     },
     "metadata": {},
     "execution_count": 8
    }
   ],
   "cell_type": "code",
   "source": [
    "sm = map( x -> x.email == \"\" ? x.name : x.name * \" - \" * x.email, paper.list )"
   ],
   "metadata": {},
   "execution_count": 8
  },
  {
   "outputs": [],
   "cell_type": "markdown",
   "source": [
    "Print the subscribers"
   ],
   "metadata": {}
  },
  {
   "outputs": [
    {
     "name": "stdout",
     "output_type": "stream",
     "text": [
      "\n",
      "================================================\n",
      " Subscribers of the Duck Chronicals - Newspaper\n",
      "================================================\n",
      " Daisy Duck - daisy@duckcity.com\n",
      " Donald Duck - donald@duckcity.com\n",
      " Scrooge McDuck - scrooge@duckcity.com\n",
      "================================================\n"
     ]
    }
   ],
   "cell_type": "code",
   "source": [
    "len =  length( \"Subscribers of \" * paper.name * string(paper.publishertype )) + 5\n",
    "println( \"\\n\" * \"=\"^len )\n",
    "title = titlecase( string( paper.publishertype ) )\n",
    "println( \" Subscribers of \" * paper.name * \" - \" * map(x -> x == '_' ? ' ' : x , title ) )\n",
    "println( \"=\"^len )\n",
    "\n",
    "for subscriber in sm\n",
    "    println( \" \" * subscriber )\n",
    "end\n",
    "println( '='^len )"
   ],
   "metadata": {},
   "execution_count": 9
  },
  {
   "outputs": [],
   "cell_type": "markdown",
   "source": [
    "### Define the function 'processMeesgae' to process data depending on SubsriberType"
   ],
   "metadata": {}
  },
  {
   "outputs": [
    {
     "output_type": "execute_result",
     "data": {
      "text/plain": "processMessage (generic function with 1 method)"
     },
     "metadata": {},
     "execution_count": 10
    }
   ],
   "cell_type": "code",
   "source": [
    "result = []\n",
    "processMessage( s::Subscriber, n::Publisher, m::Message ) = begin\n",
    "    if s.subscribertype == STD_CALCULATOR\n",
    "        println( s.name * \":\\t the standard deviation of the last five temperatures is: \" * string( round( std(m.body); digits=2) ) * \" °C\" )\n",
    "    elseif s.subscribertype == MEAN_CALCULATOR\n",
    "        #println( s.name * \":\\t the average of the last five temperatures is: \" * string(sum(m.body) / length(m.body)) * \" °C\" )\n",
    "        println( s.name * \":\\t the average of the last five temperatures is: \" * string( mean( m.body ) ) * \" °C\" )\n",
    "    elseif s.subscribertype == PLOTTER\n",
    "        println( s.name * \":\\t the dataset with the last five temperatures is: \" * string( m.body ) )\n",
    "        global result = m.body\n",
    "    end\n",
    "end"
   ],
   "metadata": {},
   "execution_count": 10
  },
  {
   "outputs": [],
   "cell_type": "markdown",
   "source": [
    "### Notify scubscribers"
   ],
   "metadata": {}
  },
  {
   "outputs": [
    {
     "name": "stdout",
     "output_type": "stream",
     "text": [
      "Daisy Duck:\t the average of the last five temperatures is: 11.26 °C\n",
      "Donald Duck:\t the standard deviation of the last five temperatures is: 1.05 °C\n",
      "Scrooge McDuck:\t the dataset with the last five temperatures is: [10.9, 12.0, 10.5, 12.7, 10.2]\n"
     ]
    }
   ],
   "cell_type": "code",
   "source": [
    "sendMessage( chronicals, message, processMessage )"
   ],
   "metadata": {},
   "execution_count": 11
  },
  {
   "outputs": [],
   "cell_type": "markdown",
   "source": [
    "### Plot the temperatures"
   ],
   "metadata": {}
  },
  {
   "outputs": [
    {
     "output_type": "execute_result",
     "data": {
      "text/plain": "Plot{Plots.PyPlotBackend() n=1}",
      "image/png": "[encoded data removed]",
      "text/html": [
       "<img src=\"data:image/png;base64,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\" />"
      ],
      "image/svg+xml": [
       "<?xml version=\"1.0\" encoding=\"utf-8\" standalone=\"no\"?>\n",
       "<!DOCTYPE svg PUBLIC \"-//W3C//DTD SVG 1.1//EN\"\n",
       "  \"http://www.w3.org/Graphics/SVG/1.1/DTD/svg11.dtd\">\n",
       "<!-- Created with matplotlib (https://matplotlib.org/) -->\n",
       "<svg height=\"288pt\" version=\"1.1\" viewBox=\"0 0 432 288\" width=\"432pt\" xmlns=\"http://www.w3.org/2000/svg\" xmlns:xlink=\"http://www.w3.org/1999/xlink\">\n",
       " <defs>\n",
       "  <style type=\"text/css\">\n",
       "*{stroke-linecap:butt;stroke-linejoin:round;}\n",
       "  </style>\n",
       " </defs>\n",
       " <g id=\"figure_1\">\n",
       "  <g id=\"patch_1\">\n",
       "   <path d=\"M 0 288 \n",
       "L 432 288 \n",
       "L 432 0 \n",
       "L 0 0 \n",
       "z\n",
       "\" style=\"fill:#ffffff;\"/>\n",
       "  </g>\n",
       "  <g id=\"axes_1\">\n",
       "   <g id=\"patch_2\">\n",
       "    <path d=\"M 24.154646 274.465354 \n",
       "L 429.165354 274.465354 \n",
       "L 429.165354 2.834646 \n",
       "L 24.154646 2.834646 \n",
       "z\n",
       "\" style=\"fill:#ffffff;\"/>\n",
       "   </g>\n",
       "   <g id=\"matplotlib.axis_1\">\n",
       "    <g id=\"xtick_1\">\n",
       "     <g id=\"line2d_1\">\n",
       "      <path clip-path=\"url(#p7194678005)\" d=\"M 35.617213 274.465354 \n",
       "L 35.617213 2.834646 \n",
       "\" style=\"fill:none;stroke:#000000;stroke-linecap:square;stroke-opacity:0.1;stroke-width:0.5;\"/>\n",
       "     </g>\n",
       "     <g id=\"line2d_2\">\n",
       "      <defs>\n",
       "       <path d=\"M 0 0 \n",
       "L 0 -3.5 \n",
       "\" id=\"m82eb999252\" style=\"stroke:#000000;stroke-width:0.8;\"/>\n",
       "      </defs>\n",
       "      <g>\n",
       "       <use style=\"stroke:#000000;stroke-width:0.8;\" x=\"35.617213\" xlink:href=\"#m82eb999252\" y=\"274.465354\"/>\n",
       "      </g>\n",
       "     </g>\n",
       "     <g id=\"text_1\">\n",
       "      <!-- 1 -->\n",
       "      <defs>\n",
       "       <path d=\"M 12.40625 8.296875 \n",
       "L 28.515625 8.296875 \n",
       "L 28.515625 63.921875 \n",
       "L 10.984375 60.40625 \n",
       "L 10.984375 69.390625 \n",
       "L 28.421875 72.90625 \n",
       "L 38.28125 72.90625 \n",
       "L 38.28125 8.296875 \n",
       "L 54.390625 8.296875 \n",
       "L 54.390625 0 \n",
       "L 12.40625 0 \n",
       "z\n",
       "\" id=\"DejaVuSans-49\"/>\n",
       "      </defs>\n",
       "      <g transform=\"translate(33.072213 284.044104)scale(0.08 -0.08)\">\n",
       "       <use xlink:href=\"#DejaVuSans-49\"/>\n",
       "      </g>\n",
       "     </g>\n",
       "    </g>\n",
       "    <g id=\"xtick_2\">\n",
       "     <g id=\"line2d_3\">\n",
       "      <path clip-path=\"url(#p7194678005)\" d=\"M 131.138606 274.465354 \n",
       "L 131.138606 2.834646 \n",
       "\" style=\"fill:none;stroke:#000000;stroke-linecap:square;stroke-opacity:0.1;stroke-width:0.5;\"/>\n",
       "     </g>\n",
       "     <g id=\"line2d_4\">\n",
       "      <g>\n",
       "       <use style=\"stroke:#000000;stroke-width:0.8;\" x=\"131.138606\" xlink:href=\"#m82eb999252\" y=\"274.465354\"/>\n",
       "      </g>\n",
       "     </g>\n",
       "     <g id=\"text_2\">\n",
       "      <!-- 2 -->\n",
       "      <defs>\n",
       "       <path d=\"M 19.1875 8.296875 \n",
       "L 53.609375 8.296875 \n",
       "L 53.609375 0 \n",
       "L 7.328125 0 \n",
       "L 7.328125 8.296875 \n",
       "Q 12.9375 14.109375 22.625 23.890625 \n",
       "Q 32.328125 33.6875 34.8125 36.53125 \n",
       "Q 39.546875 41.84375 41.421875 45.53125 \n",
       "Q 43.3125 49.21875 43.3125 52.78125 \n",
       "Q 43.3125 58.59375 39.234375 62.25 \n",
       "Q 35.15625 65.921875 28.609375 65.921875 \n",
       "Q 23.96875 65.921875 18.8125 64.3125 \n",
       "Q 13.671875 62.703125 7.8125 59.421875 \n",
       "L 7.8125 69.390625 \n",
       "Q 13.765625 71.78125 18.9375 73 \n",
       "Q 24.125 74.21875 28.421875 74.21875 \n",
       "Q 39.75 74.21875 46.484375 68.546875 \n",
       "Q 53.21875 62.890625 53.21875 53.421875 \n",
       "Q 53.21875 48.921875 51.53125 44.890625 \n",
       "Q 49.859375 40.875 45.40625 35.40625 \n",
       "Q 44.1875 33.984375 37.640625 27.21875 \n",
       "Q 31.109375 20.453125 19.1875 8.296875 \n",
       "z\n",
       "\" id=\"DejaVuSans-50\"/>\n",
       "      </defs>\n",
       "      <g transform=\"translate(128.593606 284.044104)scale(0.08 -0.08)\">\n",
       "       <use xlink:href=\"#DejaVuSans-50\"/>\n",
       "      </g>\n",
       "     </g>\n",
       "    </g>\n",
       "    <g id=\"xtick_3\">\n",
       "     <g id=\"line2d_5\">\n",
       "      <path clip-path=\"url(#p7194678005)\" d=\"M 226.66 274.465354 \n",
       "L 226.66 2.834646 \n",
       "\" style=\"fill:none;stroke:#000000;stroke-linecap:square;stroke-opacity:0.1;stroke-width:0.5;\"/>\n",
       "     </g>\n",
       "     <g id=\"line2d_6\">\n",
       "      <g>\n",
       "       <use style=\"stroke:#000000;stroke-width:0.8;\" x=\"226.66\" xlink:href=\"#m82eb999252\" y=\"274.465354\"/>\n",
       "      </g>\n",
       "     </g>\n",
       "     <g id=\"text_3\">\n",
       "      <!-- 3 -->\n",
       "      <defs>\n",
       "       <path d=\"M 40.578125 39.3125 \n",
       "Q 47.65625 37.796875 51.625 33 \n",
       "Q 55.609375 28.21875 55.609375 21.1875 \n",
       "Q 55.609375 10.40625 48.1875 4.484375 \n",
       "Q 40.765625 -1.421875 27.09375 -1.421875 \n",
       "Q 22.515625 -1.421875 17.65625 -0.515625 \n",
       "Q 12.796875 0.390625 7.625 2.203125 \n",
       "L 7.625 11.71875 \n",
       "Q 11.71875 9.328125 16.59375 8.109375 \n",
       "Q 21.484375 6.890625 26.8125 6.890625 \n",
       "Q 36.078125 6.890625 40.9375 10.546875 \n",
       "Q 45.796875 14.203125 45.796875 21.1875 \n",
       "Q 45.796875 27.640625 41.28125 31.265625 \n",
       "Q 36.765625 34.90625 28.71875 34.90625 \n",
       "L 20.21875 34.90625 \n",
       "L 20.21875 43.015625 \n",
       "L 29.109375 43.015625 \n",
       "Q 36.375 43.015625 40.234375 45.921875 \n",
       "Q 44.09375 48.828125 44.09375 54.296875 \n",
       "Q 44.09375 59.90625 40.109375 62.90625 \n",
       "Q 36.140625 65.921875 28.71875 65.921875 \n",
       "Q 24.65625 65.921875 20.015625 65.03125 \n",
       "Q 15.375 64.15625 9.8125 62.3125 \n",
       "L 9.8125 71.09375 \n",
       "Q 15.4375 72.65625 20.34375 73.4375 \n",
       "Q 25.25 74.21875 29.59375 74.21875 \n",
       "Q 40.828125 74.21875 47.359375 69.109375 \n",
       "Q 53.90625 64.015625 53.90625 55.328125 \n",
       "Q 53.90625 49.265625 50.4375 45.09375 \n",
       "Q 46.96875 40.921875 40.578125 39.3125 \n",
       "z\n",
       "\" id=\"DejaVuSans-51\"/>\n",
       "      </defs>\n",
       "      <g transform=\"translate(224.115 284.044104)scale(0.08 -0.08)\">\n",
       "       <use xlink:href=\"#DejaVuSans-51\"/>\n",
       "      </g>\n",
       "     </g>\n",
       "    </g>\n",
       "    <g id=\"xtick_4\">\n",
       "     <g id=\"line2d_7\">\n",
       "      <path clip-path=\"url(#p7194678005)\" d=\"M 322.181394 274.465354 \n",
       "L 322.181394 2.834646 \n",
       "\" style=\"fill:none;stroke:#000000;stroke-linecap:square;stroke-opacity:0.1;stroke-width:0.5;\"/>\n",
       "     </g>\n",
       "     <g id=\"line2d_8\">\n",
       "      <g>\n",
       "       <use style=\"stroke:#000000;stroke-width:0.8;\" x=\"322.181394\" xlink:href=\"#m82eb999252\" y=\"274.465354\"/>\n",
       "      </g>\n",
       "     </g>\n",
       "     <g id=\"text_4\">\n",
       "      <!-- 4 -->\n",
       "      <defs>\n",
       "       <path d=\"M 37.796875 64.3125 \n",
       "L 12.890625 25.390625 \n",
       "L 37.796875 25.390625 \n",
       "z\n",
       "M 35.203125 72.90625 \n",
       "L 47.609375 72.90625 \n",
       "L 47.609375 25.390625 \n",
       "L 58.015625 25.390625 \n",
       "L 58.015625 17.1875 \n",
       "L 47.609375 17.1875 \n",
       "L 47.609375 0 \n",
       "L 37.796875 0 \n",
       "L 37.796875 17.1875 \n",
       "L 4.890625 17.1875 \n",
       "L 4.890625 26.703125 \n",
       "z\n",
       "\" id=\"DejaVuSans-52\"/>\n",
       "      </defs>\n",
       "      <g transform=\"translate(319.636394 284.044104)scale(0.08 -0.08)\">\n",
       "       <use xlink:href=\"#DejaVuSans-52\"/>\n",
       "      </g>\n",
       "     </g>\n",
       "    </g>\n",
       "    <g id=\"xtick_5\">\n",
       "     <g id=\"line2d_9\">\n",
       "      <path clip-path=\"url(#p7194678005)\" d=\"M 417.702787 274.465354 \n",
       "L 417.702787 2.834646 \n",
       "\" style=\"fill:none;stroke:#000000;stroke-linecap:square;stroke-opacity:0.1;stroke-width:0.5;\"/>\n",
       "     </g>\n",
       "     <g id=\"line2d_10\">\n",
       "      <g>\n",
       "       <use style=\"stroke:#000000;stroke-width:0.8;\" x=\"417.702787\" xlink:href=\"#m82eb999252\" y=\"274.465354\"/>\n",
       "      </g>\n",
       "     </g>\n",
       "     <g id=\"text_5\">\n",
       "      <!-- 5 -->\n",
       "      <defs>\n",
       "       <path d=\"M 10.796875 72.90625 \n",
       "L 49.515625 72.90625 \n",
       "L 49.515625 64.59375 \n",
       "L 19.828125 64.59375 \n",
       "L 19.828125 46.734375 \n",
       "Q 21.96875 47.46875 24.109375 47.828125 \n",
       "Q 26.265625 48.1875 28.421875 48.1875 \n",
       "Q 40.625 48.1875 47.75 41.5 \n",
       "Q 54.890625 34.8125 54.890625 23.390625 \n",
       "Q 54.890625 11.625 47.5625 5.09375 \n",
       "Q 40.234375 -1.421875 26.90625 -1.421875 \n",
       "Q 22.3125 -1.421875 17.546875 -0.640625 \n",
       "Q 12.796875 0.140625 7.71875 1.703125 \n",
       "L 7.71875 11.625 \n",
       "Q 12.109375 9.234375 16.796875 8.0625 \n",
       "Q 21.484375 6.890625 26.703125 6.890625 \n",
       "Q 35.15625 6.890625 40.078125 11.328125 \n",
       "Q 45.015625 15.765625 45.015625 23.390625 \n",
       "Q 45.015625 31 40.078125 35.4375 \n",
       "Q 35.15625 39.890625 26.703125 39.890625 \n",
       "Q 22.75 39.890625 18.8125 39.015625 \n",
       "Q 14.890625 38.140625 10.796875 36.28125 \n",
       "z\n",
       "\" id=\"DejaVuSans-53\"/>\n",
       "      </defs>\n",
       "      <g transform=\"translate(415.157787 284.044104)scale(0.08 -0.08)\">\n",
       "       <use xlink:href=\"#DejaVuSans-53\"/>\n",
       "      </g>\n",
       "     </g>\n",
       "    </g>\n",
       "   </g>\n",
       "   <g id=\"matplotlib.axis_2\">\n",
       "    <g id=\"ytick_1\">\n",
       "     <g id=\"line2d_11\">\n",
       "      <path clip-path=\"url(#p7194678005)\" d=\"M 24.154646 236.027047 \n",
       "L 429.165354 236.027047 \n",
       "\" style=\"fill:none;stroke:#000000;stroke-linecap:square;stroke-opacity:0.1;stroke-width:0.5;\"/>\n",
       "     </g>\n",
       "     <g id=\"line2d_12\">\n",
       "      <defs>\n",
       "       <path d=\"M 0 0 \n",
       "L 3.5 0 \n",
       "\" id=\"m6b3ad16e80\" style=\"stroke:#000000;stroke-width:0.8;\"/>\n",
       "      </defs>\n",
       "      <g>\n",
       "       <use style=\"stroke:#000000;stroke-width:0.8;\" x=\"24.154646\" xlink:href=\"#m6b3ad16e80\" y=\"236.027047\"/>\n",
       "      </g>\n",
       "     </g>\n",
       "     <g id=\"text_6\">\n",
       "      <!-- 10.5 -->\n",
       "      <defs>\n",
       "       <path d=\"M 31.78125 66.40625 \n",
       "Q 24.171875 66.40625 20.328125 58.90625 \n",
       "Q 16.5 51.421875 16.5 36.375 \n",
       "Q 16.5 21.390625 20.328125 13.890625 \n",
       "Q 24.171875 6.390625 31.78125 6.390625 \n",
       "Q 39.453125 6.390625 43.28125 13.890625 \n",
       "Q 47.125 21.390625 47.125 36.375 \n",
       "Q 47.125 51.421875 43.28125 58.90625 \n",
       "Q 39.453125 66.40625 31.78125 66.40625 \n",
       "z\n",
       "M 31.78125 74.21875 \n",
       "Q 44.046875 74.21875 50.515625 64.515625 \n",
       "Q 56.984375 54.828125 56.984375 36.375 \n",
       "Q 56.984375 17.96875 50.515625 8.265625 \n",
       "Q 44.046875 -1.421875 31.78125 -1.421875 \n",
       "Q 19.53125 -1.421875 13.0625 8.265625 \n",
       "Q 6.59375 17.96875 6.59375 36.375 \n",
       "Q 6.59375 54.828125 13.0625 64.515625 \n",
       "Q 19.53125 74.21875 31.78125 74.21875 \n",
       "z\n",
       "\" id=\"DejaVuSans-48\"/>\n",
       "       <path d=\"M 10.6875 12.40625 \n",
       "L 21 12.40625 \n",
       "L 21 0 \n",
       "L 10.6875 0 \n",
       "z\n",
       "\" id=\"DejaVuSans-46\"/>\n",
       "      </defs>\n",
       "      <g transform=\"translate(2.842146 239.066422)scale(0.08 -0.08)\">\n",
       "       <use xlink:href=\"#DejaVuSans-49\"/>\n",
       "       <use x=\"63.623047\" xlink:href=\"#DejaVuSans-48\"/>\n",
       "       <use x=\"127.246094\" xlink:href=\"#DejaVuSans-46\"/>\n",
       "       <use x=\"159.033203\" xlink:href=\"#DejaVuSans-53\"/>\n",
       "      </g>\n",
       "     </g>\n",
       "    </g>\n",
       "    <g id=\"ytick_2\">\n",
       "     <g id=\"line2d_13\">\n",
       "      <path clip-path=\"url(#p7194678005)\" d=\"M 24.154646 184.775969 \n",
       "L 429.165354 184.775969 \n",
       "\" style=\"fill:none;stroke:#000000;stroke-linecap:square;stroke-opacity:0.1;stroke-width:0.5;\"/>\n",
       "     </g>\n",
       "     <g id=\"line2d_14\">\n",
       "      <g>\n",
       "       <use style=\"stroke:#000000;stroke-width:0.8;\" x=\"24.154646\" xlink:href=\"#m6b3ad16e80\" y=\"184.775969\"/>\n",
       "      </g>\n",
       "     </g>\n",
       "     <g id=\"text_7\">\n",
       "      <!-- 11.0 -->\n",
       "      <g transform=\"translate(2.842146 187.815344)scale(0.08 -0.08)\">\n",
       "       <use xlink:href=\"#DejaVuSans-49\"/>\n",
       "       <use x=\"63.623047\" xlink:href=\"#DejaVuSans-49\"/>\n",
       "       <use x=\"127.246094\" xlink:href=\"#DejaVuSans-46\"/>\n",
       "       <use x=\"159.033203\" xlink:href=\"#DejaVuSans-48\"/>\n",
       "      </g>\n",
       "     </g>\n",
       "    </g>\n",
       "    <g id=\"ytick_3\">\n",
       "     <g id=\"line2d_15\">\n",
       "      <path clip-path=\"url(#p7194678005)\" d=\"M 24.154646 133.524892 \n",
       "L 429.165354 133.524892 \n",
       "\" style=\"fill:none;stroke:#000000;stroke-linecap:square;stroke-opacity:0.1;stroke-width:0.5;\"/>\n",
       "     </g>\n",
       "     <g id=\"line2d_16\">\n",
       "      <g>\n",
       "       <use style=\"stroke:#000000;stroke-width:0.8;\" x=\"24.154646\" xlink:href=\"#m6b3ad16e80\" y=\"133.524892\"/>\n",
       "      </g>\n",
       "     </g>\n",
       "     <g id=\"text_8\">\n",
       "      <!-- 11.5 -->\n",
       "      <g transform=\"translate(2.842146 136.564267)scale(0.08 -0.08)\">\n",
       "       <use xlink:href=\"#DejaVuSans-49\"/>\n",
       "       <use x=\"63.623047\" xlink:href=\"#DejaVuSans-49\"/>\n",
       "       <use x=\"127.246094\" xlink:href=\"#DejaVuSans-46\"/>\n",
       "       <use x=\"159.033203\" xlink:href=\"#DejaVuSans-53\"/>\n",
       "      </g>\n",
       "     </g>\n",
       "    </g>\n",
       "    <g id=\"ytick_4\">\n",
       "     <g id=\"line2d_17\">\n",
       "      <path clip-path=\"url(#p7194678005)\" d=\"M 24.154646 82.273815 \n",
       "L 429.165354 82.273815 \n",
       "\" style=\"fill:none;stroke:#000000;stroke-linecap:square;stroke-opacity:0.1;stroke-width:0.5;\"/>\n",
       "     </g>\n",
       "     <g id=\"line2d_18\">\n",
       "      <g>\n",
       "       <use style=\"stroke:#000000;stroke-width:0.8;\" x=\"24.154646\" xlink:href=\"#m6b3ad16e80\" y=\"82.273815\"/>\n",
       "      </g>\n",
       "     </g>\n",
       "     <g id=\"text_9\">\n",
       "      <!-- 12.0 -->\n",
       "      <g transform=\"translate(2.842146 85.31319)scale(0.08 -0.08)\">\n",
       "       <use xlink:href=\"#DejaVuSans-49\"/>\n",
       "       <use x=\"63.623047\" xlink:href=\"#DejaVuSans-50\"/>\n",
       "       <use x=\"127.246094\" xlink:href=\"#DejaVuSans-46\"/>\n",
       "       <use x=\"159.033203\" xlink:href=\"#DejaVuSans-48\"/>\n",
       "      </g>\n",
       "     </g>\n",
       "    </g>\n",
       "    <g id=\"ytick_5\">\n",
       "     <g id=\"line2d_19\">\n",
       "      <path clip-path=\"url(#p7194678005)\" d=\"M 24.154646 31.022738 \n",
       "L 429.165354 31.022738 \n",
       "\" style=\"fill:none;stroke:#000000;stroke-linecap:square;stroke-opacity:0.1;stroke-width:0.5;\"/>\n",
       "     </g>\n",
       "     <g id=\"line2d_20\">\n",
       "      <g>\n",
       "       <use style=\"stroke:#000000;stroke-width:0.8;\" x=\"24.154646\" xlink:href=\"#m6b3ad16e80\" y=\"31.022738\"/>\n",
       "      </g>\n",
       "     </g>\n",
       "     <g id=\"text_10\">\n",
       "      <!-- 12.5 -->\n",
       "      <g transform=\"translate(2.842146 34.062113)scale(0.08 -0.08)\">\n",
       "       <use xlink:href=\"#DejaVuSans-49\"/>\n",
       "       <use x=\"63.623047\" xlink:href=\"#DejaVuSans-50\"/>\n",
       "       <use x=\"127.246094\" xlink:href=\"#DejaVuSans-46\"/>\n",
       "       <use x=\"159.033203\" xlink:href=\"#DejaVuSans-53\"/>\n",
       "      </g>\n",
       "     </g>\n",
       "    </g>\n",
       "   </g>\n",
       "   <g id=\"line2d_21\">\n",
       "    <path clip-path=\"url(#p7194678005)\" d=\"M 35.617213 195.026185 \n",
       "L 131.138606 82.273815 \n",
       "L 226.66 236.027047 \n",
       "L 322.181394 10.522307 \n",
       "L 417.702787 266.777693 \n",
       "\" style=\"fill:none;stroke:#009afa;stroke-linecap:round;\"/>\n",
       "   </g>\n",
       "   <g id=\"patch_3\">\n",
       "    <path d=\"M 24.154646 274.465354 \n",
       "L 24.154646 2.834646 \n",
       "\" style=\"fill:none;stroke:#000000;stroke-linecap:square;stroke-linejoin:miter;\"/>\n",
       "   </g>\n",
       "   <g id=\"patch_4\">\n",
       "    <path d=\"M 24.154646 274.465354 \n",
       "L 429.165354 274.465354 \n",
       "\" style=\"fill:none;stroke:#000000;stroke-linecap:square;stroke-linejoin:miter;\"/>\n",
       "   </g>\n",
       "   <g id=\"legend_1\">\n",
       "    <g id=\"patch_5\">\n",
       "     <path d=\"M 388.140354 20.977146 \n",
       "L 423.565354 20.977146 \n",
       "Q 425.165354 20.977146 425.165354 19.377146 \n",
       "L 425.165354 8.434646 \n",
       "Q 425.165354 6.834646 423.565354 6.834646 \n",
       "L 388.140354 6.834646 \n",
       "Q 386.540354 6.834646 386.540354 8.434646 \n",
       "L 386.540354 19.377146 \n",
       "Q 386.540354 20.977146 388.140354 20.977146 \n",
       "z\n",
       "\" style=\"fill:#ffffff;stroke:#000000;stroke-linejoin:miter;\"/>\n",
       "    </g>\n",
       "    <g id=\"line2d_22\">\n",
       "     <path d=\"M 389.740354 13.313396 \n",
       "L 405.740354 13.313396 \n",
       "\" style=\"fill:none;stroke:#009afa;stroke-linecap:square;\"/>\n",
       "    </g>\n",
       "    <g id=\"line2d_23\"/>\n",
       "    <g id=\"text_11\">\n",
       "     <!-- y1 -->\n",
       "     <defs>\n",
       "      <path d=\"M 32.171875 -5.078125 \n",
       "Q 28.375 -14.84375 24.75 -17.8125 \n",
       "Q 21.140625 -20.796875 15.09375 -20.796875 \n",
       "L 7.90625 -20.796875 \n",
       "L 7.90625 -13.28125 \n",
       "L 13.1875 -13.28125 \n",
       "Q 16.890625 -13.28125 18.9375 -11.515625 \n",
       "Q 21 -9.765625 23.484375 -3.21875 \n",
       "L 25.09375 0.875 \n",
       "L 2.984375 54.6875 \n",
       "L 12.5 54.6875 \n",
       "L 29.59375 11.921875 \n",
       "L 46.6875 54.6875 \n",
       "L 56.203125 54.6875 \n",
       "z\n",
       "\" id=\"DejaVuSans-121\"/>\n",
       "     </defs>\n",
       "     <g transform=\"translate(412.140354 16.113396)scale(0.08 -0.08)\">\n",
       "      <use xlink:href=\"#DejaVuSans-121\"/>\n",
       "      <use x=\"59.179688\" xlink:href=\"#DejaVuSans-49\"/>\n",
       "     </g>\n",
       "    </g>\n",
       "   </g>\n",
       "  </g>\n",
       " </g>\n",
       " <defs>\n",
       "  <clipPath id=\"p7194678005\">\n",
       "   <rect height=\"271.630709\" width=\"405.010709\" x=\"24.154646\" y=\"2.834646\"/>\n",
       "  </clipPath>\n",
       " </defs>\n",
       "</svg>\n"
      ]
     },
     "metadata": {},
     "execution_count": 12
    }
   ],
   "cell_type": "code",
   "source": [
    "plot(result)"
   ],
   "metadata": {},
   "execution_count": 12
  },
  {
   "outputs": [],
   "cell_type": "markdown",
   "source": [
    "*This notebook was generated using [Literate.jl](https://github.com/fredrikekre/Literate.jl).*"
   ],
   "metadata": {}
  }
 ],
 "nbformat_minor": 3,
 "metadata": {
  "language_info": {
   "file_extension": ".jl",
   "mimetype": "application/julia",
   "name": "julia",
   "version": "1.1.1"
  },
  "kernelspec": {
   "name": "julia-1.1",
   "display_name": "Julia 1.1.1",
   "language": "julia"
  }
 },
 "nbformat": 4
}
