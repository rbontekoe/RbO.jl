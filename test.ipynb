{
 "cells": [
  {
   "cell_type": "markdown",
   "metadata": {},
   "source": [
    "### DEVELOPMENT with package loaded from GitHub"
   ]
  },
  {
   "cell_type": "markdown",
   "metadata": {},
   "source": [
    "ADD THE PACKAGE FROM GITHUB"
   ]
  },
  {
   "cell_type": "markdown",
   "metadata": {},
   "source": [
    "julia> ]"
   ]
  },
  {
   "cell_type": "markdown",
   "metadata": {},
   "source": [
    "(v1.1) pkg> add https://github.com/rbontekoe/RbO.jl"
   ]
  },
  {
   "cell_type": "markdown",
   "metadata": {},
   "source": [
    "### DEVELOPMENT with local package"
   ]
  },
  {
   "cell_type": "markdown",
   "metadata": {},
   "source": [
    "push!(LOAD_PATH, \"/home/rob/julia_projects/RbO.jl/src/\")"
   ]
  },
  {
   "cell_type": "markdown",
   "metadata": {},
   "source": [
    "println(LOAD_PATH)"
   ]
  },
  {
   "cell_type": "markdown",
   "metadata": {},
   "source": [
    "Load packages"
   ]
  },
  {
   "cell_type": "code",
   "execution_count": 1,
   "metadata": {},
   "outputs": [
    {
     "data": {
      "text/plain": [
       "Plots.PyPlotBackend()"
      ]
     },
     "execution_count": 1,
     "metadata": {},
     "output_type": "execute_result"
    }
   ],
   "source": [
    "using RbO, Plots, Statistics\n",
    "pyplot()"
   ]
  },
  {
   "cell_type": "markdown",
   "metadata": {},
   "source": [
    "### Define Enumerator values from Domain.jl"
   ]
  },
  {
   "cell_type": "markdown",
   "metadata": {},
   "source": [
    "SubscriberType enumerator values"
   ]
  },
  {
   "cell_type": "code",
   "execution_count": 2,
   "metadata": {},
   "outputs": [
    {
     "data": {
      "text/plain": [
       "PLOTTER::SubscriberType = 2"
      ]
     },
     "execution_count": 2,
     "metadata": {},
     "output_type": "execute_result"
    }
   ],
   "source": [
    "STD_CALCULATOR = RbO.STD_CALCULATOR\n",
    "MEAN_CALCULATOR = RbO.MEAN_CALCULATOR\n",
    "PLOTTER = RbO.PLOTTER"
   ]
  },
  {
   "cell_type": "markdown",
   "metadata": {},
   "source": [
    "PublisherType enumerator values"
   ]
  },
  {
   "cell_type": "code",
   "execution_count": 3,
   "metadata": {},
   "outputs": [
    {
     "data": {
      "text/plain": [
       "SOCIAL_MEDIA::PublisherType = 2"
      ]
     },
     "execution_count": 3,
     "metadata": {},
     "output_type": "execute_result"
    }
   ],
   "source": [
    "NEWSPAPER = RbO.NEWSPAPER\n",
    "MAGAZINE = RbO.MAGAZINE\n",
    "SOCIAL_MEDIA = RbO.SOCIAL_MEDIA"
   ]
  },
  {
   "cell_type": "markdown",
   "metadata": {},
   "source": [
    "### Create subscribers"
   ]
  },
  {
   "cell_type": "code",
   "execution_count": 4,
   "metadata": {},
   "outputs": [
    {
     "data": {
      "text/plain": [
       "Subscriber(\"Micky Mouse\", \"\", MEAN_CALCULATOR::SubscriberType = 0)"
      ]
     },
     "execution_count": 4,
     "metadata": {},
     "output_type": "execute_result"
    }
   ],
   "source": [
    "daisy = createSubscriber( \"Daisy Duck\", \"daisy@duckcity.com\" )\n",
    "donald = createSubscriber( \"Donald Duck\", \"donald@duckcity.com\", STD_CALCULATOR )\n",
    "scrooge = createSubscriber( \"Scrooge McDuck\", \"scrooge@duckcity.com\", PLOTTER )\n",
    "mickey = createSubscriber( \"Micky Mouse\" )"
   ]
  },
  {
   "cell_type": "markdown",
   "metadata": {},
   "source": [
    "### Create newspapers and magazines"
   ]
  },
  {
   "cell_type": "code",
   "execution_count": 5,
   "metadata": {},
   "outputs": [
    {
     "data": {
      "text/plain": [
       "Publisher(\"the Duck Chronicals\", NEWSPAPER::PublisherType = 0, Subscriber[])"
      ]
     },
     "execution_count": 5,
     "metadata": {},
     "output_type": "execute_result"
    }
   ],
   "source": [
    "chronicals = createPublisher( \"the Duck Chronicals\" )"
   ]
  },
  {
   "cell_type": "markdown",
   "metadata": {},
   "source": [
    "Add subscribers to the Duck Chronicals"
   ]
  },
  {
   "cell_type": "code",
   "execution_count": 6,
   "metadata": {},
   "outputs": [
    {
     "data": {
      "text/plain": [
       "Publisher(\"the Duck Chronicals\", NEWSPAPER::PublisherType = 0, Subscriber[Subscriber(\"Daisy Duck\", \"daisy@duckcity.com\", MEAN_CALCULATOR), Subscriber(\"Donald Duck\", \"donald@duckcity.com\", STD_CALCULATOR), Subscriber(\"Scrooge McDuck\", \"scrooge@duckcity.com\", PLOTTER), Subscriber(\"Micky Mouse\", \"\", MEAN_CALCULATOR)])"
      ]
     },
     "execution_count": 6,
     "metadata": {},
     "output_type": "execute_result"
    }
   ],
   "source": [
    "subscribe( chronicals, daisy )\n",
    "subscribe( chronicals, donald )\n",
    "subscribe( chronicals, scrooge )\n",
    "subscribe( chronicals, mickey )"
   ]
  },
  {
   "cell_type": "markdown",
   "metadata": {},
   "source": [
    "Unsubscribe Mickey Mouse"
   ]
  },
  {
   "cell_type": "code",
   "execution_count": 7,
   "metadata": {},
   "outputs": [
    {
     "data": {
      "text/plain": [
       "Publisher(\"the Duck Chronicals\", NEWSPAPER::PublisherType = 0, Subscriber[Subscriber(\"Daisy Duck\", \"daisy@duckcity.com\", MEAN_CALCULATOR), Subscriber(\"Donald Duck\", \"donald@duckcity.com\", STD_CALCULATOR), Subscriber(\"Scrooge McDuck\", \"scrooge@duckcity.com\", PLOTTER)])"
      ]
     },
     "execution_count": 7,
     "metadata": {},
     "output_type": "execute_result"
    }
   ],
   "source": [
    "chronicals = unsubscribe(chronicals, mickey)"
   ]
  },
  {
   "cell_type": "markdown",
   "metadata": {},
   "source": [
    "### Define message for the Duck Chronical subscribers"
   ]
  },
  {
   "cell_type": "code",
   "execution_count": 8,
   "metadata": {},
   "outputs": [
    {
     "data": {
      "text/plain": [
       "Message(\"Weather station\", \"Temperatures\", [10.9, 12.0, 10.5, 12.7, 10.2])"
      ]
     },
     "execution_count": 8,
     "metadata": {},
     "output_type": "execute_result"
    }
   ],
   "source": [
    "message = createMessage( \"Weather station\", \"Temperatures\", [10.9, 12, 10.5, 12.7, 10.2] )"
   ]
  },
  {
   "cell_type": "markdown",
   "metadata": {},
   "source": [
    "### Print the messages"
   ]
  },
  {
   "cell_type": "code",
   "execution_count": 9,
   "metadata": {},
   "outputs": [
    {
     "data": {
      "text/plain": [
       "Publisher(\"the Duck Chronicals\", NEWSPAPER::PublisherType = 0, Subscriber[Subscriber(\"Daisy Duck\", \"daisy@duckcity.com\", MEAN_CALCULATOR), Subscriber(\"Donald Duck\", \"donald@duckcity.com\", STD_CALCULATOR), Subscriber(\"Scrooge McDuck\", \"scrooge@duckcity.com\", PLOTTER)])"
      ]
     },
     "execution_count": 9,
     "metadata": {},
     "output_type": "execute_result"
    }
   ],
   "source": [
    "paper = chronicals"
   ]
  },
  {
   "cell_type": "markdown",
   "metadata": {},
   "source": [
    "List with the subscribers of a newspaper or magazine"
   ]
  },
  {
   "cell_type": "code",
   "execution_count": 10,
   "metadata": {},
   "outputs": [
    {
     "data": {
      "text/plain": [
       "3-element Array{String,1}:\n",
       " \"Daisy Duck - daisy@duckcity.com\"      \n",
       " \"Donald Duck - donald@duckcity.com\"    \n",
       " \"Scrooge McDuck - scrooge@duckcity.com\""
      ]
     },
     "execution_count": 10,
     "metadata": {},
     "output_type": "execute_result"
    }
   ],
   "source": [
    "sm = map( x -> x.email == \"\" ? x.name : x.name * \" - \" * x.email, paper.list )"
   ]
  },
  {
   "cell_type": "markdown",
   "metadata": {},
   "source": [
    "Print the subscribers"
   ]
  },
  {
   "cell_type": "code",
   "execution_count": 11,
   "metadata": {},
   "outputs": [
    {
     "name": "stdout",
     "output_type": "stream",
     "text": [
      "\n",
      "================================================\n",
      " Subscribers of the Duck Chronicals - Newspaper\n",
      "================================================\n",
      " Daisy Duck - daisy@duckcity.com\n",
      " Donald Duck - donald@duckcity.com\n",
      " Scrooge McDuck - scrooge@duckcity.com\n",
      "================================================\n"
     ]
    }
   ],
   "source": [
    "len =  length( \"Subscribers of \" * paper.name * string(paper.publishertype )) + 5\n",
    "println( \"\\n\" * \"=\"^len )\n",
    "title = titlecase( string( paper.publishertype ) )\n",
    "println( \" Subscribers of \" * paper.name * \" - \" * map(x -> x == '_' ? ' ' : x , title ) )\n",
    "println( \"=\"^len )\n",
    "\n",
    "for subscriber in sm\n",
    "    println( \" \" * subscriber )\n",
    "end\n",
    "println( '='^len )"
   ]
  },
  {
   "cell_type": "markdown",
   "metadata": {},
   "source": [
    "### Define the function 'processMeesgae' to process data depending on SubsriberType"
   ]
  },
  {
   "cell_type": "code",
   "execution_count": 12,
   "metadata": {},
   "outputs": [
    {
     "data": {
      "text/plain": [
       "processMessage (generic function with 1 method)"
      ]
     },
     "execution_count": 12,
     "metadata": {},
     "output_type": "execute_result"
    }
   ],
   "source": [
    "result = []\n",
    "processMessage( s::Subscriber, n::Publisher, m::Message ) = begin\n",
    "    if s.subscribertype == STD_CALCULATOR\n",
    "        println( s.name * \":\\t the standard deviation of the last five temperatures is: \" * string( round( std(m.body); digits=2) ) * \" °C\" )\n",
    "    elseif s.subscribertype == MEAN_CALCULATOR\n",
    "        #println( s.name * \":\\t the average of the last five temperatures is: \" * string(sum(m.body) / length(m.body)) * \" °C\" )\n",
    "        println( s.name * \":\\t the average of the last five temperatures is: \" * string( mean( m.body ) ) * \" °C\" )\n",
    "    elseif s.subscribertype == PLOTTER\n",
    "        println( s.name * \":\\t the dataset with the last five temperatures is: \" * string( m.body ) )\n",
    "        global result = m.body\n",
    "    end\n",
    "end"
   ]
  },
  {
   "cell_type": "markdown",
   "metadata": {},
   "source": [
    "### Notify scubscribers"
   ]
  },
  {
   "cell_type": "code",
   "execution_count": 13,
   "metadata": {},
   "outputs": [
    {
     "name": "stdout",
     "output_type": "stream",
     "text": [
      "Daisy Duck:\t the average of the last five temperatures is: 11.26 °C\n",
      "Donald Duck:\t the standard deviation of the last five temperatures is: 1.05 °C\n",
      "Scrooge McDuck:\t the dataset with the last five temperatures is: [10.9, 12.0, 10.5, 12.7, 10.2]\n"
     ]
    }
   ],
   "source": [
    "sendMessage( chronicals, message, processMessage )"
   ]
  },
  {
   "cell_type": "markdown",
   "metadata": {},
   "source": [
    "### Plot the temperatures"
   ]
  },
  {
   "cell_type": "code",
   "execution_count": 14,
   "metadata": {},
   "outputs": [
    {
     "data": {
      "image/png": "[encoded data removed]"
     },
     "execution_count": 14,
     "metadata": {},
     "output_type": "execute_result"
    }
   ],
   "source": [
    "plot(result)"
   ]
  },
  {
   "cell_type": "markdown",
   "metadata": {},
   "source": [
    "*This notebook was generated using [Literate.jl](https://github.com/fredrikekre/Literate.jl).*"
   ]
  }
 ],
 "metadata": {
  "kernelspec": {
   "display_name": "Julia 1.1.1",
   "language": "julia",
   "name": "julia-1.1"
  },
  "language_info": {
   "file_extension": ".jl",
   "mimetype": "application/julia",
   "name": "julia",
   "version": "1.1.1"
  }
 },
 "nbformat": 4,
 "nbformat_minor": 3
}
